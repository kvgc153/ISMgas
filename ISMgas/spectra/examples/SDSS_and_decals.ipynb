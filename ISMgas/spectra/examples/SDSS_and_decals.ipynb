{
 "cells": [
  {
   "cell_type": "code",
   "execution_count": 1,
   "id": "e6517552",
   "metadata": {},
   "outputs": [],
   "source": [
    "from astropy.io import ascii\n",
    "import glob\n",
    "import matplotlib.pyplot as plt\n",
    "import numpy as np\n",
    "from scipy import signal\n",
    "from scipy.signal import medfilt\n",
    "from astropy.io import fits\n",
    "from scipy.constants import c \n",
    "c_kms = c*1e-3\n",
    "from scipy import interpolate\n",
    "from IPython.display import Image\n",
    "\n",
    "from ISMgas.linelist import linelist_highz, linelist_SDSS\n",
    "from ISMgas.SupportingFunctions import save_to_MARZ, interpolateData, overlayAllLines, plotWithError\n",
    "from ISMgas.SupportingFunctions import returnWeightedArray, display_image, makeDirectory\n",
    "from ISMgas.GalaxyProperties import GalaxyProperties\n",
    "\n",
    "    "
   ]
  },
  {
   "cell_type": "code",
   "execution_count": 2,
   "id": "bb23fdba",
   "metadata": {},
   "outputs": [
    {
     "name": "stdout",
     "output_type": "stream",
     "text": [
      "1113838_z.fits 1113838_r.fits 1113838_g.fits (1, 1.5, 3) 1 15 -1.0 white 0.0 False False 1113838.png\n"
     ]
    },
    {
     "ename": "Exception",
     "evalue": "The SPARCL Client you are running expects an older version of the API services. Please upgrade to the latest \"sparclclient\".  The Client you are using expected version 11.0 but got 12.0 from the SPARCL Server at https://astrosparcl.datalab.noirlab.edu/sparc.",
     "output_type": "error",
     "traceback": [
      "\u001b[0;31m---------------------------------------------------------------------------\u001b[0m",
      "\u001b[0;31mException\u001b[0m                                 Traceback (most recent call last)",
      "Cell \u001b[0;32mIn[2], line 25\u001b[0m\n\u001b[1;32m     21\u001b[0m gg\u001b[38;5;241m.\u001b[39mdecalsFitsAndPng(grab\u001b[38;5;241m=\u001b[39m\u001b[38;5;28;01mTrue\u001b[39;00m)\n\u001b[1;32m     24\u001b[0m plt\u001b[38;5;241m.\u001b[39mfigure(figsize\u001b[38;5;241m=\u001b[39m (\u001b[38;5;241m11\u001b[39m,\u001b[38;5;241m6\u001b[39m), dpi \u001b[38;5;241m=\u001b[39m \u001b[38;5;241m200\u001b[39m)\n\u001b[0;32m---> 25\u001b[0m \u001b[43mgg\u001b[49m\u001b[38;5;241;43m.\u001b[39;49m\u001b[43mSDSS_spectra\u001b[49m\u001b[43m(\u001b[49m\u001b[43mylim\u001b[49m\u001b[43m \u001b[49m\u001b[38;5;241;43m=\u001b[39;49m\u001b[43m \u001b[49m\u001b[43mylimSDSS\u001b[49m\u001b[43m)\u001b[49m\n",
      "File \u001b[0;32m~/work/ISMgas/ISMgas/GalaxyProperties.py:148\u001b[0m, in \u001b[0;36mGalaxyProperties.SDSS_spectra\u001b[0;34m(self, index, search_min, search_max, ylim)\u001b[0m\n\u001b[1;32m    144\u001b[0m \u001b[38;5;28;01mdef\u001b[39;00m \u001b[38;5;21mSDSS_spectra\u001b[39m(\u001b[38;5;28mself\u001b[39m,index\u001b[38;5;241m=\u001b[39m\u001b[38;5;241m0\u001b[39m,search_min\u001b[38;5;241m=\u001b[39m\u001b[38;5;241m0.0005\u001b[39m, search_max\u001b[38;5;241m=\u001b[39m\u001b[38;5;241m0.0005\u001b[39m, ylim \u001b[38;5;241m=\u001b[39m [\u001b[38;5;241m-\u001b[39m\u001b[38;5;241m1\u001b[39m,\u001b[38;5;241m5\u001b[39m]):\n\u001b[1;32m    145\u001b[0m \u001b[38;5;250m    \u001b[39m\u001b[38;5;124;03m'''\u001b[39;00m\n\u001b[1;32m    146\u001b[0m \u001b[38;5;124;03m    Adapted from this example from the datalab: https://github.com/astro-datalab/notebooks-latest/blob/master/04_HowTos/SPARCL/How_to_use_SPARCL.ipynb\u001b[39;00m\n\u001b[1;32m    147\u001b[0m \u001b[38;5;124;03m    '''\u001b[39;00m\n\u001b[0;32m--> 148\u001b[0m     client                    \u001b[38;5;241m=\u001b[39m \u001b[43mSparclClient\u001b[49m\u001b[43m(\u001b[49m\u001b[43m)\u001b[49m\n\u001b[1;32m    149\u001b[0m     out                       \u001b[38;5;241m=\u001b[39m [\u001b[38;5;124m'\u001b[39m\u001b[38;5;124mid\u001b[39m\u001b[38;5;124m'\u001b[39m, \u001b[38;5;124m'\u001b[39m\u001b[38;5;124mspecid\u001b[39m\u001b[38;5;124m'\u001b[39m,\u001b[38;5;124m'\u001b[39m\u001b[38;5;124mra\u001b[39m\u001b[38;5;124m'\u001b[39m, \u001b[38;5;124m'\u001b[39m\u001b[38;5;124mdec\u001b[39m\u001b[38;5;124m'\u001b[39m, \u001b[38;5;124m'\u001b[39m\u001b[38;5;124mredsstem christie.hift\u001b[39m\u001b[38;5;124m'\u001b[39m, \u001b[38;5;124m'\u001b[39m\u001b[38;5;124mspectype\u001b[39m\u001b[38;5;124m'\u001b[39m, \u001b[38;5;124m'\u001b[39m\u001b[38;5;124mdata_release\u001b[39m\u001b[38;5;124m'\u001b[39m, \u001b[38;5;124m'\u001b[39m\u001b[38;5;124mredshift_err\u001b[39m\u001b[38;5;124m'\u001b[39m]\n\u001b[1;32m    150\u001b[0m     cons \u001b[38;5;241m=\u001b[39m {\n\u001b[1;32m    151\u001b[0m             \u001b[38;5;124m'\u001b[39m\u001b[38;5;124mdata_release\u001b[39m\u001b[38;5;124m'\u001b[39m    : [\u001b[38;5;124m'\u001b[39m\u001b[38;5;124mBOSS-DR16\u001b[39m\u001b[38;5;124m'\u001b[39m, \u001b[38;5;124m'\u001b[39m\u001b[38;5;124mSDSS-DR16\u001b[39m\u001b[38;5;124m'\u001b[39m],\n\u001b[1;32m    152\u001b[0m             \u001b[38;5;124m'\u001b[39m\u001b[38;5;124mra\u001b[39m\u001b[38;5;124m'\u001b[39m              : [\u001b[38;5;28mself\u001b[39m\u001b[38;5;241m.\u001b[39mra\u001b[38;5;241m-\u001b[39msearch_min,\u001b[38;5;28mself\u001b[39m\u001b[38;5;241m.\u001b[39mra\u001b[38;5;241m+\u001b[39msearch_max],\n\u001b[1;32m    153\u001b[0m             \u001b[38;5;124m'\u001b[39m\u001b[38;5;124mdec\u001b[39m\u001b[38;5;124m'\u001b[39m             : [\u001b[38;5;28mself\u001b[39m\u001b[38;5;241m.\u001b[39mdec\u001b[38;5;241m-\u001b[39msearch_min,\u001b[38;5;28mself\u001b[39m\u001b[38;5;241m.\u001b[39mdec\u001b[38;5;241m+\u001b[39msearch_max]\n\u001b[1;32m    154\u001b[0m         }\n",
      "File \u001b[0;32m~/anaconda3/envs/ISMgas/lib/python3.8/site-packages/sparcl/client.py:210\u001b[0m, in \u001b[0;36mSparclClient.__init__\u001b[0;34m(self, email, password, url, verbose, show_curl, connect_timeout, read_timeout)\u001b[0m\n\u001b[1;32m    200\u001b[0m \u001b[38;5;28;01mif\u001b[39;00m (\u001b[38;5;28mint\u001b[39m(\u001b[38;5;28mself\u001b[39m\u001b[38;5;241m.\u001b[39mapiversion) \u001b[38;5;241m-\u001b[39m \u001b[38;5;28mint\u001b[39m(expected_api)) \u001b[38;5;241m>\u001b[39m\u001b[38;5;241m=\u001b[39m \u001b[38;5;241m1\u001b[39m:\n\u001b[1;32m    201\u001b[0m     msg \u001b[38;5;241m=\u001b[39m (\n\u001b[1;32m    202\u001b[0m         \u001b[38;5;124mf\u001b[39m\u001b[38;5;124m\"\u001b[39m\u001b[38;5;124mThe SPARCL Client you are running expects an older \u001b[39m\u001b[38;5;124m\"\u001b[39m\n\u001b[1;32m    203\u001b[0m         \u001b[38;5;124mf\u001b[39m\u001b[38;5;124m\"\u001b[39m\u001b[38;5;124mversion of the API services. \u001b[39m\u001b[38;5;124m\"\u001b[39m\n\u001b[0;32m   (...)\u001b[0m\n\u001b[1;32m    208\u001b[0m         \u001b[38;5;124mf\u001b[39m\u001b[38;5;124m\"\u001b[39m\u001b[38;5;124mat \u001b[39m\u001b[38;5;132;01m{\u001b[39;00m\u001b[38;5;28mself\u001b[39m\u001b[38;5;241m.\u001b[39mapiurl\u001b[38;5;132;01m}\u001b[39;00m\u001b[38;5;124m.\u001b[39m\u001b[38;5;124m\"\u001b[39m\n\u001b[1;32m    209\u001b[0m     )\n\u001b[0;32m--> 210\u001b[0m     \u001b[38;5;28;01mraise\u001b[39;00m \u001b[38;5;167;01mException\u001b[39;00m(msg)\n\u001b[1;32m    211\u001b[0m \u001b[38;5;66;03m# self.session = requests.Session() #@@@\u001b[39;00m\n\u001b[1;32m    213\u001b[0m \u001b[38;5;28mself\u001b[39m\u001b[38;5;241m.\u001b[39mclientversion \u001b[38;5;241m=\u001b[39m client_version\n",
      "\u001b[0;31mException\u001b[0m: The SPARCL Client you are running expects an older version of the API services. Please upgrade to the latest \"sparclclient\".  The Client you are using expected version 11.0 but got 12.0 from the SPARCL Server at https://astrosparcl.datalab.noirlab.edu/sparc."
     ]
    },
    {
     "data": {
      "text/plain": [
       "<Figure size 2200x1200 with 0 Axes>"
      ]
     },
     "metadata": {},
     "output_type": "display_data"
    }
   ],
   "source": [
    "## 13.33\n",
    "objid = \"1113838\"\n",
    "\n",
    "RA = 24.1630214\n",
    "DEC = 0.1383859\n",
    "\n",
    "\n",
    "z = 0.345\n",
    "Nsm  = 11\n",
    "\n",
    "xlim = [3800,5000]\n",
    "ylim = [0,140]\n",
    "ylimSDSS = [-1,15]\n",
    "\n",
    "gg = GalaxyProperties(\n",
    "    ra= RA, \n",
    "    dec =DEC, \n",
    "    objid=objid\n",
    ")\n",
    "\n",
    "gg.decalsFitsAndPng(grab=True)\n",
    "\n",
    "\n",
    "plt.figure(figsize= (11,6), dpi = 200)\n",
    "gg.SDSS_spectra(ylim = ylimSDSS)"
   ]
  },
  {
   "cell_type": "code",
   "execution_count": null,
   "id": "a87250d4-f286-4d2d-87d0-3e1b5b65391b",
   "metadata": {},
   "outputs": [],
   "source": []
  }
 ],
 "metadata": {
  "kernelspec": {
   "display_name": "Python 3 (ipykernel)",
   "language": "python",
   "name": "python3"
  },
  "language_info": {
   "codemirror_mode": {
    "name": "ipython",
    "version": 3
   },
   "file_extension": ".py",
   "mimetype": "text/x-python",
   "name": "python",
   "nbconvert_exporter": "python",
   "pygments_lexer": "ipython3",
   "version": "3.8.0"
  }
 },
 "nbformat": 4,
 "nbformat_minor": 5
}
